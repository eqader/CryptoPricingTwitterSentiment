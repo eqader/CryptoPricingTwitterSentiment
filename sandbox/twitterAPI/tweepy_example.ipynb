{
 "cells": [
  {
   "cell_type": "code",
   "execution_count": 1,
   "id": "10fb25d5",
   "metadata": {},
   "outputs": [],
   "source": [
    "import tweepy\n",
    "import os"
   ]
  },
  {
   "cell_type": "code",
   "execution_count": 2,
   "id": "92c1f1df",
   "metadata": {},
   "outputs": [],
   "source": [
    "client = tweepy.Client(bearer_token=os.getenv('TWITTER_API_BEARER'))"
   ]
  },
  {
   "cell_type": "code",
   "execution_count": 3,
   "id": "80c8c96b",
   "metadata": {},
   "outputs": [
    {
     "data": {
      "text/plain": [
       "<tweepy.client.Client at 0x1ab1fa9d220>"
      ]
     },
     "execution_count": 3,
     "metadata": {},
     "output_type": "execute_result"
    }
   ],
   "source": [
    "client"
   ]
  },
  {
   "cell_type": "code",
   "execution_count": 10,
   "id": "5ae0da78",
   "metadata": {},
   "outputs": [],
   "source": [
    "response = client.search_recent_tweets(\"coin\")"
   ]
  },
  {
   "cell_type": "code",
   "execution_count": 30,
   "id": "cc7d9364",
   "metadata": {},
   "outputs": [
    {
     "name": "stdout",
     "output_type": "stream",
     "text": [
      "<class 'tweepy.tweet.Tweet'>\n"
     ]
    }
   ],
   "source": [
    "print(type(response.data[0]))"
   ]
  },
  {
   "cell_type": "code",
   "execution_count": 35,
   "id": "1c65c440",
   "metadata": {},
   "outputs": [
    {
     "name": "stdout",
     "output_type": "stream",
     "text": [
      "#####################################\n",
      "Tweet length: 140\n",
      "Tweet ID: 1495488642726387713\n",
      "Tweet Language: None\n",
      "RT @KriptoCeltics: Bu tweet'in altına 9 adet coin ve güncel piyasa analizini bıraktım\n",
      "Sizlere yardımcı olması dileğiyle🙏\n",
      "\n",
      "#MANA \n",
      "#SHIB \n",
      "#SO…\n",
      "\n",
      "\n",
      "#####################################\n",
      "Tweet length: 87\n",
      "Tweet ID: 1495488641853964289\n",
      "Tweet Language: None\n",
      "The price of #Etheroll is currently $0.65\n",
      " #Crypto $DICE #DICE\n",
      " https://t.co/qT6Y4uTdUu\n",
      "\n",
      "\n",
      "#####################################\n",
      "Tweet length: 182\n",
      "Tweet ID: 1495488640692142085\n",
      "Tweet Language: None\n",
      "@ShirinNariman The freedom-seeking people of Iran are done with dictatorship, in any way, shape or form… no matter which side of the same coin: #نه_شاه_نه_شیخ https://t.co/BvizCLLpsA\n",
      "\n",
      "\n",
      "#####################################\n",
      "Tweet length: 38\n",
      "Tweet ID: 1495488639098306560\n",
      "Tweet Language: None\n",
      "#Babydoge coin https://t.co/XYE0HqSZq1\n",
      "\n",
      "\n",
      "#####################################\n",
      "Tweet length: 222\n",
      "Tweet ID: 1495488630428684297\n",
      "Tweet Language: None\n",
      "Once I have a big enough following and can afford to do it, I will be doing weekly giveaways. May start small, but remember it's not the amount in dollars, it's the amount in coin that is important.\n",
      "#bitcoin #degen #crypto\n",
      "\n",
      "\n",
      "#####################################\n",
      "Tweet length: 140\n",
      "Tweet ID: 1495488620991586306\n",
      "Tweet Language: None\n",
      "RT @MinoritiesNFT: 💫Im happy to announce our TLM COIN COMING SOON!💫\n",
      "\n",
      "-Use NFTS to stake\n",
      "-Create passive income\n",
      "-The more you stake the more…\n",
      "\n",
      "\n",
      "#####################################\n",
      "Tweet length: 140\n",
      "Tweet ID: 1495488620286955526\n",
      "Tweet Language: None\n",
      "RT @Metacore_nft: 📣 LISTING ANNOUNCEMENT 📣\n",
      "\n",
      "Metacore now listed on @coinvotecc 💣\n",
      "\n",
      "Big steps forward 💪\n",
      "\n",
      "🤩 Thanks a lot for trusting in the p…\n",
      "\n",
      "\n",
      "#####################################\n",
      "Tweet length: 103\n",
      "Tweet ID: 1495488620047876104\n",
      "Tweet Language: None\n",
      "RT @KriptoCeltics: Gelecekten en ümitli olduğunuz coin?\n",
      "\n",
      "Yorumlarda görmek istiyorum 👇👇👇\n",
      "\n",
      "#bitcoin #btc\n",
      "\n",
      "\n",
      "#####################################\n",
      "Tweet length: 93\n",
      "Tweet ID: 1495488618139422720\n",
      "Tweet Language: None\n",
      "@erhanunall Kimse milyoner olamaz daha. Onlarca coin var  bırakın bu işleri artık kandırmayın\n",
      "\n",
      "\n",
      "#####################################\n",
      "Tweet length: 104\n",
      "Tweet ID: 1495488616830799876\n",
      "Tweet Language: None\n",
      "@hamsterbigarmy @TrustWallet @_hamster_coin https://t.co/iDtvwSfiyk\n",
      "#HamsterCoin \n",
      "#hamsterswap \n",
      "#hamster\n",
      "\n",
      "\n"
     ]
    }
   ],
   "source": [
    "tweets = response.data\n",
    "\n",
    "# Each Tweet object has default id and text fields\n",
    "for tweet in tweets:\n",
    "    print('#####################################')\n",
    "    print(f'Tweet length: {len(tweet.text)}')\n",
    "    print(f'Tweet ID: {tweet.id}')\n",
    "    print(f'Tweet Language: {tweet.lang}')\n",
    "    print(tweet.text)\n",
    "    print()\n",
    "    print()"
   ]
  },
  {
   "cell_type": "code",
   "execution_count": null,
   "id": "e15dfb3c",
   "metadata": {},
   "outputs": [],
   "source": []
  }
 ],
 "metadata": {
  "kernelspec": {
   "display_name": "Python 3 (ipykernel)",
   "language": "python",
   "name": "python3"
  },
  "language_info": {
   "codemirror_mode": {
    "name": "ipython",
    "version": 3
   },
   "file_extension": ".py",
   "mimetype": "text/x-python",
   "name": "python",
   "nbconvert_exporter": "python",
   "pygments_lexer": "ipython3",
   "version": "3.7.12"
  }
 },
 "nbformat": 4,
 "nbformat_minor": 5
}
